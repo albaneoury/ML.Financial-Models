{
 "cells": [
  {
   "cell_type": "code",
   "execution_count": 1,
   "metadata": {},
   "outputs": [],
   "source": [
    "from newsapi import NewsApiClient\n",
    "import pandas as pd\n",
    "from datetime import datetime\n",
    "from textblob import TextBlob  # ✅ Add this import\n",
    "\n",
    "api_key = 'c0859e4de8cc4bbda56d0d654d5fbf77'\n",
    "newsapi = NewsApiClient(api_key=api_key)\n",
    "\n",
    "tickers = [\"AAPL\", \"MSFT\", \"TSLA\", \"AMZN\", \"GOOG\"]\n",
    "today = datetime.now().strftime('%Y-%m-%d')\n",
    "news_data = []\n",
    "\n",
    "for ticker in tickers:\n",
    "    articles = newsapi.get_everything(q=f\"{ticker} stock\", language='en', sort_by='publishedAt', page_size=50)\n",
    "    for article in articles[\"articles\"]:\n",
    "        news_data.append({\n",
    "            \"ticker\": ticker,\n",
    "            \"title\": article[\"title\"],\n",
    "            \"description\": article[\"description\"],\n",
    "            \"url\": article[\"url\"],\n",
    "            \"publishedAt\": article[\"publishedAt\"]\n",
    "        })\n",
    "\n",
    "# ✅ Add sentiment analysis AFTER news_data is populated\n",
    "for article in news_data:\n",
    "    content = f\"{article['title']} {article['description']}\"\n",
    "    polarity = TextBlob(content).sentiment.polarity\n",
    "    article[\"sentiment_score\"] = polarity\n",
    "    article[\"sentiment\"] = \"positive\" if polarity > 0.1 else \"negative\" if polarity < -0.1 else \"neutral\"\n",
    "\n",
    "# Save final data\n",
    "df = pd.DataFrame(news_data)\n",
    "df.to_csv(f\"news_articles_{today}.csv\", index=False)"
   ]
  },
  {
   "cell_type": "code",
   "execution_count": null,
   "metadata": {},
   "outputs": [],
   "source": []
  },
  {
   "cell_type": "markdown",
   "metadata": {},
   "source": []
  }
 ],
 "metadata": {
  "kernelspec": {
   "display_name": "base",
   "language": "python",
   "name": "python3"
  },
  "language_info": {
   "codemirror_mode": {
    "name": "ipython",
    "version": 3
   },
   "file_extension": ".py",
   "mimetype": "text/x-python",
   "name": "python",
   "nbconvert_exporter": "python",
   "pygments_lexer": "ipython3",
   "version": "3.11.11"
  }
 },
 "nbformat": 4,
 "nbformat_minor": 2
}
